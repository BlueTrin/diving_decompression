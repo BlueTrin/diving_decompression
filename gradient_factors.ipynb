{
 "cells": [
  {
   "cell_type": "markdown",
   "metadata": {
    "collapsed": true,
    "pycharm": {
     "name": "#%% md\n"
    }
   },
   "source": [
    "# Disclaimer\n",
    "If you use this code for any other purpose than checking for my errors, you are just insane as it was not tested."
   ]
  },
  {
   "cell_type": "markdown",
   "source": [
    "# Finding the ceiling with Gradient Factors\n",
    "With gradient factors, you interpolate between this line and the ambient line.\n",
    "\n",
    "The ambient line is: $y=x$.\n",
    "\n",
    "If we use $GF=80%$, we just draw a vertical line for a certain $P_{amb tol}$ and take 80% between the ambiant line and\n",
    "the Buhlman tissue line.\n",
    "\n",
    "So we can compute what would be $P_{tissue,tol}^{GF}$:\n",
    "\n",
    "$P_{tissue,tol}^{GF} = P_{amb tol} + GF\\left(P_{tissue,tol}-P_{amb tol}\\right)$\n",
    "\n",
    "This can be written as:\n",
    "\n",
    "$P_{tissue,tol}^{GF} = P_{amb tol}\\left( 1 + GF\\left( \\frac{1}{b}-1 \\right) \\right)+a \\cdot GF$\n",
    "\n",
    "Therefore:\n",
    "\n",
    "$ceiling^{GF}= \\frac{P_{tissue,tol}^{GF} - a \\cdot GF}{1 + GF\\left( \\frac{1}{b}-1 \\right)}$\n",
    "\n",
    "We have an optional argument in the ceiling function to compute a ceiling with gradient factor:"
   ],
   "metadata": {
    "collapsed": false
   }
  },
  {
   "cell_type": "code",
   "execution_count": 1,
   "outputs": [
    {
     "name": "stdout",
     "output_type": "stream",
     "text": [
      "GF=0.0, ceiling=-2.547929999999999\n",
      "GF=0.1, ceiling=-2.806488783715432\n",
      "GF=0.2, ceiling=-3.063201934707479\n",
      "GF=0.3, ceiling=-3.3180891443154206\n",
      "GF=0.4, ceiling=-3.5711698247513213\n",
      "GF=0.5, ceiling=-3.8224631140283916\n",
      "GF=0.6, ceiling=-4.071987880785298\n",
      "GF=0.7, ceiling=-4.319762729008982\n",
      "GF=0.8, ceiling=-4.565806002658449\n",
      "GF=0.9, ceiling=-4.810135790191965\n",
      "GF=1.0, ceiling=-5.052769928999998\n"
     ]
    }
   ],
   "source": [
    "from buhlmann import ceiling_pressure, Tissues, pressure_to_depth\n",
    "initial_tissues = Tissues()\n",
    "for gf_pc in list(range(0 , 110, 10)):\n",
    "    print(\"GF={}, ceiling={}\".format(\n",
    "        gf_pc/100.0,\n",
    "        pressure_to_depth(ceiling_pressure(initial_tissues, gf=gf_pc/100.0))))\n"
   ],
   "metadata": {
    "collapsed": false,
    "pycharm": {
     "name": "#%%\n"
    }
   }
  },
  {
   "cell_type": "markdown",
   "source": [
    "Usually the diver defines two variables $GF_{lo}$ and $GF_{hi}$.\n",
    "\n",
    "$GF_{lo}$ is used on the first stop.\n",
    "\n",
    "$GF_{hi}$ is used on the last stop when surfacing.\n",
    "\n",
    "Between these points, we interpolate linearly the $GF$.\n",
    "\n",
    "To make it easier, we will just encapsulate this in a class."
   ],
   "metadata": {
    "collapsed": false,
    "pycharm": {
     "name": "#%% md\n"
    }
   }
  },
  {
   "cell_type": "code",
   "execution_count": 2,
   "outputs": [
    {
     "name": "stdout",
     "output_type": "stream",
     "text": [
      "pressure=1, GF=0.8\n",
      "pressure=2, GF=0.7250000000000001\n",
      "pressure=3, GF=0.65\n",
      "pressure=4, GF=0.575\n",
      "pressure=5, GF=0.5\n"
     ]
    }
   ],
   "source": [
    "class GradientFactors:\n",
    "    def __init__(self, gf_lo, pamb_lo, gf_hi, pamb_hi=1):\n",
    "        \"\"\"\n",
    "        :param gf_lo: gradient factor for first stop, usually between 0 and 1\n",
    "        :param pamb_lo: ambiant pressure for the first stop\n",
    "        :param gf_hi:  gradient factor for surfacing stop, usually between 0 and 1\n",
    "        :param pamb_hi: ambiant pressure for the surface, assume 1 bar by default ?\n",
    "        \"\"\"\n",
    "        self.gf_lo = gf_lo\n",
    "        self.pamb_lo = pamb_lo\n",
    "        self.gf_hi = gf_hi\n",
    "        self.pamb_hi = pamb_hi\n",
    "\n",
    "    def gf(self, pamb):\n",
    "        return self.gf_lo + \\\n",
    "               (self.gf_hi - self.gf_lo) / (self.pamb_hi - self.pamb_lo) \\\n",
    "               * (pamb - self.pamb_lo)\n",
    "\n",
    "gf = GradientFactors(0.5, 5, 0.8)\n",
    "for p in range(1, 6):\n",
    "    print(\"pressure={}, GF={}\".format(p, gf.gf(p)))\n"
   ],
   "metadata": {
    "collapsed": false,
    "pycharm": {
     "name": "#%%\n"
    }
   }
  },
  {
   "cell_type": "markdown",
   "source": [
    "we have a parameter to find stops with gradient factors\n"
   ],
   "metadata": {
    "collapsed": false,
    "pycharm": {
     "name": "#%% md\n"
    }
   }
  },
  {
   "cell_type": "code",
   "execution_count": 3,
   "outputs": [
    {
     "data": {
      "text/plain": "<Figure size 900x750 with 0 Axes>"
     },
     "metadata": {},
     "output_type": "display_data"
    },
    {
     "data": {
      "text/plain": "<Figure size 864x720 with 1 Axes>",
      "image/png": "[encoded data removed]"
     },
     "metadata": {
      "needs_background": "light"
     },
     "output_type": "display_data"
    }
   ],
   "source": [
    "import pandas as pd\n",
    "from buhlmann import Gas, Tissues, run_dive, get_stops_to_surface\n",
    "gas = Gas(n2_pc=0.79, he_pc=0.0)\n",
    "initial_tissues = Tissues()\n",
    "dive_plan = pd.DataFrame([\n",
    "    [0, 0],\n",
    "    [2, 40],\n",
    "    [22, 40]],\n",
    "    columns=['t', 'depth'])\n",
    "\n",
    "gf_lo = 0.3  # 30% GF LO\n",
    "gf_hi = 0.8  # 30% GF LO\n",
    "\n",
    "run_dive_plan = run_dive(dive_plan, initial_tissues, gas)\n",
    "current_tissues = run_dive_plan.iloc[-1]['tissues']\n",
    "current_depth = run_dive_plan.iloc[-1]['depth']\n",
    "max_ascent_rate = 9  # metres/sec\n",
    "run_stops = get_stops_to_surface(\n",
    "    current_tissues,\n",
    "    current_depth,\n",
    "    gas,\n",
    "    max_ascent_rate,\n",
    "    gf_lo=gf_lo,\n",
    "    gf_hi=gf_hi,\n",
    ")\n",
    "run_stops['t'] += run_dive_plan.iloc[-1]['t']\n",
    "run_dive_plan = run_dive_plan.append(run_stops)\n",
    "\n",
    "# print(run_dive_plan)\n",
    "dive_data = run_dive(run_dive_plan, initial_tissues, gas, resolution=1)\n",
    "# print(dive_data)\n",
    "\n",
    "from matplotlib.patches import Polygon\n",
    "import matplotlib.colors as mcolors\n",
    "\n",
    "from dive_plan_graph import gradient_fill\n",
    "\n",
    "\n",
    "%matplotlib inline\n",
    "import math\n",
    "import numpy as np\n",
    "from matplotlib import pyplot as plt\n",
    "t = np.linspace(0, 2*math.pi, 800)\n",
    "a = np.sin(t)\n",
    "plt.figure(figsize=(12, 10), dpi=75)\n",
    "# plt.plot(dive_data['t'], dive_data['depth'], 'r')\n",
    "# plt.plot(dive_data['t'], dive_data['ceiling'], 'b')\n",
    "fig, ax = plt.subplots(figsize=(12,10))\n",
    "gradient_fill(dive_data['t'], dive_data['depth'], ax=ax)\n",
    "gradient_fill(dive_data['t'], dive_data['ceiling'], ax=ax)\n",
    "plt.gca().invert_yaxis()\n",
    "# ax.set_aspect('equal')\n",
    "ax.grid(True, which='both')\n",
    "\n",
    "ax.axhline(y=0, color='k')\n",
    "ax.axvline(x=0, color='k')\n",
    "plt.show()"
   ],
   "metadata": {
    "collapsed": false,
    "pycharm": {
     "name": "#%%\n"
    }
   }
  }
 ],
 "metadata": {
  "kernelspec": {
   "display_name": "Python 3",
   "language": "python",
   "name": "python3"
  },
  "language_info": {
   "codemirror_mode": {
    "name": "ipython",
    "version": 2
   },
   "file_extension": ".py",
   "mimetype": "text/x-python",
   "name": "python",
   "nbconvert_exporter": "python",
   "pygments_lexer": "ipython2",
   "version": "2.7.6"
  }
 },
 "nbformat": 4,
 "nbformat_minor": 0
}