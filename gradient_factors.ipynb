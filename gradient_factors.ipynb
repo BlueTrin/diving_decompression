{
 "cells": [
  {
   "cell_type": "markdown",
   "metadata": {
    "collapsed": true,
    "pycharm": {
     "name": "#%% md\n"
    }
   },
   "source": [
    "With gradient factors, you interpolate between this line and the ambient line.\n",
    "\n",
    "The ambient line is: $y=x$.\n",
    "\n",
    "If we use $GF=80%$, we just draw a vertical line for a certain $P_{amb tol}$ and take 80% between the ambiant line and\n",
    "the Buhlman tissue line.\n",
    "\n",
    "So we can compute what would be $P_{tissue,tol}^{GF}$:\n",
    "\n",
    "$P_{tissue,tol}^{GF} = P_{amb tol} + GF\\left(P_{tissue,tol}-P_{amb tol}\\right)$\n",
    "\n",
    "This can be written as:\n",
    "\n",
    "$P_{tissue,tol}^{GF} = P_{amb tol}\\left( 1 + GF\\left( \\frac{1}{b}-1 \\right) \\right)+a \\cdot GF$\n",
    "\n",
    "Therefore:\n",
    "\n",
    "$ceiling^{GF}= \\frac{P_{tissue,tol}^{GF} - a \\cdot GF}{1 + GF\\left( \\frac{1}{b}-1 \\right)}$\n",
    "\n",
    "We have an optional argument in the ceiling function to compute a ceiling with gradient factor:"
   ]
  },
  {
   "cell_type": "code",
   "execution_count": 1,
   "outputs": [
    {
     "name": "stdout",
     "output_type": "stream",
     "text": [
      "GF=0.0, ceiling=-2.547929999999999\n",
      "GF=0.1, ceiling=-2.806488783715432\n",
      "GF=0.2, ceiling=-3.063201934707479\n",
      "GF=0.3, ceiling=-3.3180891443154206\n",
      "GF=0.4, ceiling=-3.5711698247513213\n",
      "GF=0.5, ceiling=-3.8224631140283916\n",
      "GF=0.6, ceiling=-4.071987880785298\n",
      "GF=0.7, ceiling=-4.319762729008982\n",
      "GF=0.8, ceiling=-4.565806002658449\n",
      "GF=0.9, ceiling=-4.810135790191965\n",
      "GF=1.0, ceiling=-5.052769928999998\n"
     ]
    }
   ],
   "source": [
    "from buhlmann import ceiling_pressure, Tissues, pressure_to_depth\n",
    "initial_tissues = Tissues()\n",
    "for gf_pc in list(range(0 , 110, 10)):\n",
    "    print(\"GF={}, ceiling={}\".format(\n",
    "        gf_pc/100.0,\n",
    "        pressure_to_depth(ceiling_pressure(initial_tissues, gf=gf_pc/100.0))))\n"
   ],
   "metadata": {
    "collapsed": false,
    "pycharm": {
     "name": "#%%\n"
    }
   }
  },
  {
   "cell_type": "markdown",
   "source": [
    "Usually the diver defines two variables $GF_{lo}$ and $GF_{hi}$.\n",
    "\n",
    "$GF_{lo}$ is used on the first stop.\n",
    "\n",
    "$GF_{hi}$ is used on the last stop when surfacing.\n",
    "\n",
    "Between these points, we interpolate linearly the $GF$.\n",
    "\n",
    "To make it easier, we will just encapsulate this in a class."
   ],
   "metadata": {
    "collapsed": false,
    "pycharm": {
     "name": "#%% md\n"
    }
   }
  },
  {
   "cell_type": "code",
   "execution_count": 2,
   "outputs": [
    {
     "name": "stdout",
     "output_type": "stream",
     "text": [
      "pressure=1, GF=0.8\n",
      "pressure=2, GF=0.7250000000000001\n",
      "pressure=3, GF=0.65\n",
      "pressure=4, GF=0.575\n",
      "pressure=5, GF=0.5\n"
     ]
    }
   ],
   "source": [
    "class GradientFactors:\n",
    "    def __init__(self, gf_lo, pamb_lo, gf_hi, pamb_hi=1):\n",
    "        \"\"\"\n",
    "        :param gf_lo: gradient factor for first stop, usually between 0 and 1\n",
    "        :param pamb_lo: ambiant pressure for the first stop\n",
    "        :param gf_hi:  gradient factor for surfacing stop, usually between 0 and 1\n",
    "        :param pamb_hi: ambiant pressure for the surface, assume 1 bar by default ?\n",
    "        \"\"\"\n",
    "        self.gf_lo = gf_lo\n",
    "        self.pamb_lo = pamb_lo\n",
    "        self.gf_hi = gf_hi\n",
    "        self.pamb_hi = pamb_hi\n",
    "\n",
    "    def gf(self, pamb):\n",
    "        return self.gf_lo + \\\n",
    "               (self.gf_hi - self.gf_lo) / (self.pamb_hi - self.pamb_lo) \\\n",
    "               * (pamb - self.pamb_lo)\n",
    "\n",
    "gf = GradientFactors(0.5, 5, 0.8)\n",
    "for p in range(1, 6):\n",
    "    print(\"pressure={}, GF={}\".format(p, gf.gf(p)))\n"
   ],
   "metadata": {
    "collapsed": false,
    "pycharm": {
     "name": "#%%\n"
    }
   }
  },
  {
   "cell_type": "markdown",
   "source": [
    "we have a parameter to find stops with gradient factors\n"
   ],
   "metadata": {
    "collapsed": false,
    "pycharm": {
     "name": "#%% md\n"
    }
   }
  },
  {
   "cell_type": "code",
   "execution_count": 3,
   "outputs": [
    {
     "ename": "RuntimeError",
     "evalue": "looks like we cannot ascend after 100 minutes of stop",
     "output_type": "error",
     "traceback": [
      "\u001B[1;31m---------------------------------------------------------------------------\u001B[0m",
      "\u001B[1;31mRuntimeError\u001B[0m                              Traceback (most recent call last)",
      "\u001B[1;32m<ipython-input-3-c6da8f4a3962>\u001B[0m in \u001B[0;36m<module>\u001B[1;34m\u001B[0m\n\u001B[0;32m     12\u001B[0m \u001B[0mcurrent_depth\u001B[0m \u001B[1;33m=\u001B[0m \u001B[0mrun_dive_plan\u001B[0m\u001B[1;33m.\u001B[0m\u001B[0miloc\u001B[0m\u001B[1;33m[\u001B[0m\u001B[1;33m-\u001B[0m\u001B[1;36m1\u001B[0m\u001B[1;33m]\u001B[0m\u001B[1;33m[\u001B[0m\u001B[1;34m'depth'\u001B[0m\u001B[1;33m]\u001B[0m\u001B[1;33m\u001B[0m\u001B[1;33m\u001B[0m\u001B[0m\n\u001B[0;32m     13\u001B[0m \u001B[0mmax_ascent_rate\u001B[0m \u001B[1;33m=\u001B[0m \u001B[1;36m9\u001B[0m  \u001B[1;31m# metres/sec\u001B[0m\u001B[1;33m\u001B[0m\u001B[1;33m\u001B[0m\u001B[0m\n\u001B[1;32m---> 14\u001B[1;33m run_stops = get_stops_to_surface(\n\u001B[0m\u001B[0;32m     15\u001B[0m     \u001B[0mcurrent_tissues\u001B[0m\u001B[1;33m,\u001B[0m\u001B[1;33m\u001B[0m\u001B[1;33m\u001B[0m\u001B[0m\n\u001B[0;32m     16\u001B[0m     \u001B[0mcurrent_depth\u001B[0m\u001B[1;33m,\u001B[0m\u001B[1;33m\u001B[0m\u001B[1;33m\u001B[0m\u001B[0m\n",
      "\u001B[1;32mE:\\Users\\BlueTrin\\PycharmProjects\\diving_decompression\\buhlmann.py\u001B[0m in \u001B[0;36mget_stops_to_surface\u001B[1;34m(tissues, depth, gas, max_ascent_rate, gf_lo, gf_hi)\u001B[0m\n\u001B[0;32m    254\u001B[0m             \u001B[0mfirst_stop\u001B[0m \u001B[1;33m=\u001B[0m \u001B[1;32mFalse\u001B[0m\u001B[1;33m\u001B[0m\u001B[1;33m\u001B[0m\u001B[0m\n\u001B[0;32m    255\u001B[0m         \u001B[1;32melse\u001B[0m\u001B[1;33m:\u001B[0m\u001B[1;33m\u001B[0m\u001B[1;33m\u001B[0m\u001B[0m\n\u001B[1;32m--> 256\u001B[1;33m             \u001B[0mstop_info\u001B[0m \u001B[1;33m=\u001B[0m \u001B[0mfind_next_stop\u001B[0m\u001B[1;33m(\u001B[0m\u001B[0mcurr_tissues\u001B[0m\u001B[1;33m,\u001B[0m \u001B[0mcurr_depth\u001B[0m\u001B[1;33m,\u001B[0m \u001B[0mgas\u001B[0m\u001B[1;33m,\u001B[0m \u001B[0mmax_ascent_rate\u001B[0m\u001B[1;33m,\u001B[0m \u001B[0mgf\u001B[0m\u001B[1;33m=\u001B[0m\u001B[0mgf\u001B[0m\u001B[1;33m.\u001B[0m\u001B[0mgf\u001B[0m\u001B[1;33m(\u001B[0m\u001B[0mcurr_depth\u001B[0m\u001B[1;33m)\u001B[0m\u001B[1;33m)\u001B[0m\u001B[1;33m\u001B[0m\u001B[1;33m\u001B[0m\u001B[0m\n\u001B[0m\u001B[0;32m    257\u001B[0m \u001B[1;33m\u001B[0m\u001B[0m\n\u001B[0;32m    258\u001B[0m         \u001B[1;31m# update times\u001B[0m\u001B[1;33m\u001B[0m\u001B[1;33m\u001B[0m\u001B[1;33m\u001B[0m\u001B[0m\n",
      "\u001B[1;32mE:\\Users\\BlueTrin\\PycharmProjects\\diving_decompression\\buhlmann.py\u001B[0m in \u001B[0;36mfind_next_stop\u001B[1;34m(tissues, depth, gas, ascent_rate, gf)\u001B[0m\n\u001B[0;32m    219\u001B[0m \u001B[1;33m\u001B[0m\u001B[0m\n\u001B[0;32m    220\u001B[0m             \u001B[1;32mif\u001B[0m \u001B[0mt_wait\u001B[0m \u001B[1;33m>\u001B[0m \u001B[1;36m100\u001B[0m\u001B[1;33m:\u001B[0m\u001B[1;33m\u001B[0m\u001B[1;33m\u001B[0m\u001B[0m\n\u001B[1;32m--> 221\u001B[1;33m                 \u001B[1;32mraise\u001B[0m \u001B[0mRuntimeError\u001B[0m\u001B[1;33m(\u001B[0m\u001B[1;34m\"looks like we cannot ascend after 100 minutes of stop\"\u001B[0m\u001B[1;33m)\u001B[0m\u001B[1;33m\u001B[0m\u001B[1;33m\u001B[0m\u001B[0m\n\u001B[0m\u001B[0;32m    222\u001B[0m \u001B[1;33m\u001B[0m\u001B[0m\n\u001B[0;32m    223\u001B[0m \u001B[1;33m\u001B[0m\u001B[0m\n",
      "\u001B[1;31mRuntimeError\u001B[0m: looks like we cannot ascend after 100 minutes of stop"
     ]
    }
   ],
   "source": [
    "import pandas as pd\n",
    "from buhlmann import Gas, Tissues, run_dive, get_stops_to_surface\n",
    "gas = Gas(n2_pc=0.79, he_pc=0.0)\n",
    "initial_tissues = Tissues()\n",
    "dive_plan = pd.DataFrame([\n",
    "    [0, 0],\n",
    "    [2, 40],\n",
    "    [22, 40]],\n",
    "    columns=['t', 'depth'])\n",
    "run_dive_plan = run_dive(dive_plan, initial_tissues, gas)\n",
    "current_tissues = run_dive_plan.iloc[-1]['tissues']\n",
    "current_depth = run_dive_plan.iloc[-1]['depth']\n",
    "max_ascent_rate = 9  # metres/sec\n",
    "run_stops = get_stops_to_surface(\n",
    "    current_tissues,\n",
    "    current_depth,\n",
    "    gas,\n",
    "    max_ascent_rate,\n",
    "    gf_lo=0.3,\n",
    "    gf_hi=0.8,\n",
    ")\n",
    "run_stops['t'] += run_dive_plan.iloc[-1]['t']\n",
    "run_dive_plan = run_dive_plan.append(run_stops)\n",
    "\n",
    "# print(run_dive_plan)\n",
    "dive_data = run_dive(run_dive_plan, initial_tissues, gas, resolution=1)\n",
    "# print(dive_data)\n",
    "\n",
    "from matplotlib.patches import Polygon\n",
    "import matplotlib.colors as mcolors\n",
    "\n",
    "def gradient_fill(x, y, fill_color=None, ax=None, **kwargs):\n",
    "    \"\"\"\n",
    "    Plot a line with a linear alpha gradient filled beneath it.\n",
    "\n",
    "    Parameters\n",
    "    ----------\n",
    "    x, y : array-like\n",
    "        The data values of the line.\n",
    "    fill_color : a matplotlib color specifier (string, tuple) or None\n",
    "        The color for the fill. If None, the color of the line will be used.\n",
    "    ax : a matplotlib Axes instance\n",
    "        The axes to plot on. If None, the current pyplot axes will be used.\n",
    "    Additional arguments are passed on to matplotlib's ``plot`` function.\n",
    "\n",
    "    Returns\n",
    "    -------\n",
    "    line : a Line2D instance\n",
    "        The line plotted.\n",
    "    im : an AxesImage instance\n",
    "        The transparent gradient clipped to just the area beneath the curve.\n",
    "    \"\"\"\n",
    "    if ax is None:\n",
    "        ax = plt.gca()\n",
    "\n",
    "    line, = ax.plot(x, y, **kwargs)\n",
    "    if fill_color is None:\n",
    "        fill_color = line.get_color()\n",
    "\n",
    "    zorder = line.get_zorder()\n",
    "    alpha = line.get_alpha()\n",
    "    alpha = 1.0 if alpha is None else alpha\n",
    "\n",
    "    z = np.empty((100, 1, 4), dtype=float)\n",
    "    rgb = mcolors.colorConverter.to_rgb(fill_color)\n",
    "    z[:,:,:3] = rgb\n",
    "    z[:,:,-1] = np.linspace(0, alpha, 100)[:,None]\n",
    "\n",
    "    # xmin, xmax, ymin, ymax = x.min(), x.max(), y.min(), y.max()\n",
    "    xmin, xmax, ymin, ymax = x.min(), x.max(), 0, y.max()\n",
    "    im = ax.imshow(z, aspect='auto', extent=[xmin, xmax, ymin, ymax],\n",
    "                   origin='lower', zorder=zorder)\n",
    "\n",
    "    xy = np.column_stack([x, y])\n",
    "    xy = np.vstack([[xmin, ymin], xy, [xmax, ymin], [xmin, ymin]])\n",
    "    clip_path = Polygon(xy, facecolor='none', edgecolor='none', closed=True)\n",
    "    ax.add_patch(clip_path)\n",
    "    im.set_clip_path(clip_path)\n",
    "\n",
    "    ax.autoscale(True)\n",
    "    return line, im\n",
    "\n",
    "%matplotlib inline\n",
    "import math\n",
    "import numpy as np\n",
    "from matplotlib import pyplot as plt\n",
    "t = np.linspace(0, 2*math.pi, 800)\n",
    "a = np.sin(t)\n",
    "plt.figure(figsize=(12, 10), dpi=75)\n",
    "# plt.plot(dive_data['t'], dive_data['depth'], 'r')\n",
    "# plt.plot(dive_data['t'], dive_data['ceiling'], 'b')\n",
    "fig, ax = plt.subplots(figsize=(12,10))\n",
    "gradient_fill(dive_data['t'], dive_data['depth'], ax=ax)\n",
    "gradient_fill(dive_data['t'], dive_data['ceiling'], ax=ax)\n",
    "plt.gca().invert_yaxis()\n",
    "# ax.set_aspect('equal')\n",
    "ax.grid(True, which='both')\n",
    "\n",
    "ax.axhline(y=0, color='k')\n",
    "ax.axvline(x=0, color='k')\n",
    "plt.show()"
   ],
   "metadata": {
    "collapsed": false,
    "pycharm": {
     "name": "#%%\n"
    }
   }
  }
 ],
 "metadata": {
  "kernelspec": {
   "display_name": "Python 3",
   "language": "python",
   "name": "python3"
  },
  "language_info": {
   "codemirror_mode": {
    "name": "ipython",
    "version": 2
   },
   "file_extension": ".py",
   "mimetype": "text/x-python",
   "name": "python",
   "nbconvert_exporter": "python",
   "pygments_lexer": "ipython2",
   "version": "2.7.6"
  }
 },
 "nbformat": 4,
 "nbformat_minor": 0
}