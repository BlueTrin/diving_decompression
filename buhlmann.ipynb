{
 "cells": [
  {
   "cell_type": "markdown",
   "source": [
    "[Dmaziuk's page](https://github.com/dmaziuk/diy-zhl/blob/master/diyzhl.ipynb)\n",
    "\n",
    "[Introductory Deco Lessons](https://www.shearwater.com/wp-content/uploads/2012/08/Introductory-Deco-Lessons.pdf)\n",
    "\n",
    "[Understanding M-values](https://www.frogkick.nl/files/understanding_m-values.pdf)\n",
    "\n",
    "[DIY deco](http://www.lizardland.co.uk/DIYDeco.html)"
   ],
   "metadata": {
    "collapsed": false,
    "pycharm": {
     "name": "#%% md\n"
    }
   }
  },
  {
   "cell_type": "markdown",
   "source": [
    "# Schreiner Equation\n",
    "## Fundamental equation of the dissolved gas\n",
    "\n",
    "$\\frac{dP}{dt} = k(P_i - P)$\n",
    "\n",
    "For ascent or descent at a constant rate, this resolves:\n",
    "\n",
    "$P = P_{i,0}+R\\left(t-\\frac{1}{k}\\right)-\\left[P_{i,0}-P_0-\\frac{R}{k}\\right]e^{-kt}$\n",
    "- $P$ Final compartment inert gas pressure\n",
    "- $P_{i,0}$ Initial ambient pressure\n",
    "- $P_0$ Initial compartment inert gas pressure\n",
    "- $R$ rate of change in inspired gas pressure with change in ambient pressure\n",
    "- $t$ time\n",
    "- $k$ $\\frac{ln(2)}{\\lambda}$\n",
    "- $\\lambda$: half time"
   ],
   "metadata": {
    "collapsed": false,
    "pycharm": {
     "name": "#%% md\n"
    }
   }
  },
  {
   "cell_type": "markdown",
   "source": [
    "We define the ZHL-16C coefficients"
   ],
   "metadata": {
    "collapsed": false
   }
  },
  {
   "cell_type": "code",
   "execution_count": 1,
   "outputs": [
    {
     "name": "stdout",
     "output_type": "stream",
     "text": [
      "+-------------+-------------+--------+--------+-------------+--------+--------+\n",
      "| compartment | n2_halflife |  n2_a  |  n2_b  | he_halflife |  he_a  |  he_b  |\n",
      "+-------------+-------------+--------+--------+-------------+--------+--------+\n",
      "|     1.0     |     5.0     | 1.1696 | 0.5578 |     1.88    | 1.6189 | 0.477  |\n",
      "|     2.0     |     8.0     |  1.0   | 0.6514 |     3.02    | 1.383  | 0.5747 |\n",
      "|     3.0     |     12.5    | 0.8618 | 0.7222 |     4.72    | 1.1919 | 0.6527 |\n",
      "|     4.0     |     18.5    | 0.7562 | 0.7825 |     6.99    | 1.0458 | 0.7223 |\n",
      "|     5.0     |     27.0    |  0.62  | 0.8126 |    10.21    | 0.922  | 0.7582 |\n",
      "|     6.0     |     38.3    | 0.5043 | 0.8434 |    14.48    | 0.8205 | 0.7957 |\n",
      "|     7.0     |     54.3    | 0.441  | 0.8693 |    20.53    | 0.7305 | 0.8279 |\n",
      "|     8.0     |     77.0    |  0.4   | 0.891  |    29.11    | 0.6502 | 0.8553 |\n",
      "|     9.0     |    109.0    | 0.375  | 0.9092 |     41.2    | 0.595  | 0.8757 |\n",
      "|     10.0    |    146.0    |  0.35  | 0.9222 |    55.19    | 0.5545 | 0.8903 |\n",
      "|     11.0    |    187.0    | 0.3295 | 0.9319 |    70.69    | 0.5333 | 0.8997 |\n",
      "|     12.0    |    239.0    | 0.3065 | 0.9403 |    90.34    | 0.5189 | 0.9073 |\n",
      "|     13.0    |    305.0    | 0.2835 | 0.9477 |    115.29   | 0.5181 | 0.9122 |\n",
      "|     14.0    |    390.0    | 0.261  | 0.9544 |    147.42   | 0.5176 | 0.9171 |\n",
      "|     15.0    |    498.0    | 0.248  | 0.9602 |    188.24   | 0.5172 | 0.9217 |\n",
      "|     16.0    |    635.0    | 0.2327 | 0.9653 |    240.03   | 0.5119 | 0.9267 |\n",
      "+-------------+-------------+--------+--------+-------------+--------+--------+\n"
     ]
    },
    {
     "data": {
      "text/plain": "<prettytable.PrettyTable at 0x213cc1204f0>"
     },
     "execution_count": 1,
     "metadata": {},
     "output_type": "execute_result"
    }
   ],
   "source": [
    "from buhlmann import ZHL_16C\n",
    "\n",
    "from prettytable import PrettyTable\n",
    "\n",
    "def generate_ascii_table(df):\n",
    "    x = PrettyTable()\n",
    "    x.field_names = df.columns.tolist()\n",
    "    for row in df.values:\n",
    "        x.add_row(row)\n",
    "    print(x)\n",
    "    return x\n",
    "\n",
    "generate_ascii_table(ZHL_16C)"
   ],
   "metadata": {
    "collapsed": false,
    "pycharm": {
     "name": "#%%\n"
    }
   }
  },
  {
   "cell_type": "markdown",
   "source": [
    "Surface pressure is assumed to be 1 bar\n",
    "Water Vapour Pressure in Alveolies is expressed in bars"
   ],
   "metadata": {
    "collapsed": false
   }
  },
  {
   "cell_type": "code",
   "execution_count": 2,
   "outputs": [],
   "source": [
    "# in bar\n",
    "SURFACE_PRESSURE = 1\n",
    "WATER_VAPOR_PRESSURE_ALVEOLI = 0.0567\n",
    "\n",
    "# in fsw\n",
    "# SURFACE_PRESSURE = 33\n",
    "# WATER_VAPOR_PRESSURE_ALVEOLI = 2.042\n",
    "\n",
    "\n",
    "# 1st dive so 0.79 N2 and 0 HE\n",
    "surface_n2_pp = 0.79\n"
   ],
   "metadata": {
    "collapsed": false,
    "pycharm": {
     "name": "#%%\n"
    }
   }
  },
  {
   "cell_type": "markdown",
   "source": [
    "Define a gas for the dive"
   ],
   "metadata": {
    "collapsed": false
   }
  },
  {
   "cell_type": "code",
   "execution_count": 3,
   "outputs": [
    {
     "name": "stdout",
     "output_type": "stream",
     "text": [
      "Initial N2 partial pressure: <PandasArray>\n",
      "[0.7452070000000001, 0.7452070000000001, 0.7452070000000001,\n",
      " 0.7452070000000001, 0.7452070000000001, 0.7452070000000001,\n",
      " 0.7452070000000001, 0.7452070000000001, 0.7452070000000001,\n",
      " 0.7452070000000001, 0.7452070000000001, 0.7452070000000001,\n",
      " 0.7452070000000001, 0.7452070000000001, 0.7452070000000001,\n",
      " 0.7452070000000001]\n",
      "Length: 16, dtype: float64\n",
      "Initial He partial pressure: <IntegerArray>\n",
      "[0, 0, 0, 0, 0, 0, 0, 0, 0, 0, 0, 0, 0, 0, 0, 0]\n",
      "Length: 16, dtype: Int64\n"
     ]
    }
   ],
   "source": [
    "from buhlmann import Gas, Tissues\n",
    "# gas = Gas(n2_pc=0.4, he_pc=0.45)\n",
    "gas = Gas(n2_pc=0.79, he_pc=0.0)\n",
    "\n",
    "tissues = Tissues()\n",
    "print(\"Initial N2 partial pressure: {}\".format(tissues.n2_p))\n",
    "print(\"Initial He partial pressure: {}\".format(tissues.he_p))"
   ],
   "metadata": {
    "collapsed": false,
    "pycharm": {
     "name": "#%%\n"
    }
   }
  },
  {
   "cell_type": "markdown",
   "source": [
    "let's try a dive"
   ],
   "metadata": {
    "collapsed": false
   }
  },
  {
   "cell_type": "code",
   "execution_count": 4,
   "outputs": [
    {
     "name": "stdout",
     "output_type": "stream",
     "text": [
      "initial ceiling: -5.052769928999999\n"
     ]
    }
   ],
   "source": [
    "from buhlmann import get_partial_pressures, ceiling, pressure_to_depth, depth_to_pressure\n",
    "\n",
    "dive = [\n",
    "    (0, 0),\n",
    "    (2, 40),    # 40 meters at 2 mins\n",
    "    (22, 40),   # 40 meters at 22 mins\n",
    "]\n",
    "initial_tissues = Tissues()\n",
    "print(\"initial ceiling: {}\".format(pressure_to_depth(ceiling(tissues))))"
   ],
   "metadata": {
    "collapsed": false,
    "pycharm": {
     "name": "#%%\n"
    }
   }
  },
  {
   "cell_type": "markdown",
   "source": [
    "We can compute the ceilings like this:"
   ],
   "metadata": {
    "collapsed": false
   }
  },
  {
   "cell_type": "code",
   "execution_count": 5,
   "outputs": [
    {
     "name": "stdout",
     "output_type": "stream",
     "text": [
      "Step:0, t_start=0, depth_start=0, t_end=2, depth_end=40\n",
      "ceiling: -5.019497451499991\n",
      "Step:1, t_start=2, depth_start=40, t_end=22, depth_end=40\n",
      "ceiling: 5.5835348059744145\n"
     ]
    }
   ],
   "source": [
    "tissues = initial_tissues\n",
    "for i_step, ((start_time, start_depth), (end_time, end_depth)) in enumerate(zip(dive[:-1], dive[1:])):\n",
    "    print(\"Step:{}, t_start={}, depth_start={}, t_end={}, depth_end={}\".format(\n",
    "        i_step, start_time, start_depth, end_time, end_depth\n",
    "    ))\n",
    "    tissues = get_partial_pressures(\n",
    "            tissues,        # vector for compartments\n",
    "            gas,\n",
    "            depth_to_pressure(start_depth),    # for example 0 feet\n",
    "            depth_to_pressure(end_depth),      # for example 120 feet\n",
    "            end_time-start_time,              # time for depth change\n",
    "    )\n",
    "    print(\"ceiling: {}\".format(pressure_to_depth(ceiling(tissues))))"
   ],
   "metadata": {
    "collapsed": false,
    "pycharm": {
     "name": "#%%\n"
    }
   }
  },
  {
   "cell_type": "markdown",
   "source": [
    "We try to find the stops for the dive"
   ],
   "metadata": {
    "collapsed": false
   }
  },
  {
   "cell_type": "code",
   "execution_count": 8,
   "outputs": [
    {
     "name": "stdout",
     "output_type": "stream",
     "text": [
      "Final Dive Plan=[(0, 0), (2, 40), (22, 40), (26, 6), (40, 6), (41, 0)]\n"
     ]
    }
   ],
   "source": [
    "dive_w_stops = dive\n",
    "from buhlmann import find_next_stop\n",
    "\n",
    "current_depth = end_depth\n",
    "while current_depth != 0:\n",
    "    print(\"Find stops for depth={}\".format(current_depth))\n",
    "    stop_info = find_next_stop(tissues, current_depth, gas, 9)\n",
    "\n",
    "    # update the times\n",
    "    stop_info = [ (t + dive[-1][0], d) for (t, d) in stop_info]\n",
    "    print(\"STOPS={}\".format(stop_info))\n",
    "\n",
    "    # update tissues\n",
    "    schedule = [ dive[-1]] + stop_info\n",
    "\n",
    "    for (start_time, start_depth), (end_time, end_depth) in zip(schedule[:-1], schedule[1:]):\n",
    "\n",
    "        tissues = get_partial_pressures(\n",
    "                tissues,        # vector for compartments\n",
    "                gas,\n",
    "                depth_to_pressure(start_depth),    # for example 0 feet\n",
    "                depth_to_pressure(end_depth),      # for example 120 feet\n",
    "                end_time-start_time,              # time for depth change\n",
    "        )\n",
    "\n",
    "    # append to the dive\n",
    "    dive_w_stops.extend(stop_info)\n",
    "\n",
    "    current_depth = dive_w_stops[-1][1]\n",
    "\n",
    "print(\"Final Dive Plan={}\".format(dive_w_stops))\n",
    "# we put this functionality in buhlmann.get_stops_to_surface()\n"
   ],
   "metadata": {
    "collapsed": false,
    "pycharm": {
     "name": "#%%\n"
    }
   }
  },
  {
   "cell_type": "markdown",
   "source": [
    "But to display a graph we will do this"
   ],
   "metadata": {
    "collapsed": false,
    "pycharm": {
     "name": "#%% md\n"
    }
   }
  },
  {
   "cell_type": "code",
   "execution_count": 9,
   "outputs": [
    {
     "name": "stdout",
     "output_type": "stream",
     "text": [
      "       t  depth   ceiling\n",
      "0    0.0    0.0 -5.052770\n",
      "1    1.0   20.0 -5.044449\n",
      "2    2.0   40.0 -5.019497\n",
      "3    3.0   40.0 -4.986255\n",
      "4    4.0   40.0 -4.953049\n",
      "5    5.0   40.0 -4.896996\n",
      "6    6.0   40.0 -3.582280\n",
      "7    7.0   40.0 -2.437754\n",
      "8    8.0   40.0 -1.441385\n",
      "9    9.0   40.0 -0.573996\n",
      "10  10.0   40.0  0.181110\n",
      "11  11.0   40.0  0.838468\n",
      "12  12.0   40.0  1.410731\n",
      "13  13.0   40.0  1.908915\n",
      "14  14.0   40.0  2.342610\n",
      "15  15.0   40.0  2.797127\n",
      "16  16.0   40.0  3.305676\n",
      "17  17.0   40.0  3.772017\n",
      "18  18.0   40.0  4.199654\n",
      "19  19.0   40.0  4.591799\n",
      "20  20.0   40.0  4.951397\n",
      "21  21.0   40.0  5.281150\n",
      "22  22.0   40.0  5.583535\n",
      "23  23.0   31.5  5.676684\n",
      "24  24.0   23.0  5.399065\n",
      "25  25.0   14.5  4.799980\n",
      "26  26.0    6.0  4.270459\n",
      "27  27.0    6.0  3.639913\n",
      "28  28.0    6.0  3.043380\n",
      "29  29.0    6.0  2.479025\n",
      "30  30.0    6.0  2.080933\n",
      "31  31.0    6.0  1.769900\n",
      "32  32.0    6.0  1.470306\n",
      "33  33.0    6.0  1.181729\n",
      "34  34.0    6.0  0.903763\n",
      "35  35.0    6.0  0.636020\n",
      "36  36.0    6.0  0.459209\n",
      "37  37.0    6.0  0.317526\n",
      "38  38.0    6.0  0.179435\n",
      "39  39.0    6.0  0.044844\n",
      "40  40.0    6.0 -0.086336\n",
      "41  41.0    0.0 -0.263211\n"
     ]
    },
    {
     "data": {
      "text/plain": "<Figure size 675x450 with 1 Axes>",
      "image/png": "[encoded data removed]"
     },
     "metadata": {
      "needs_background": "light"
     },
     "output_type": "display_data"
    }
   ],
   "source": [
    "import pandas as pd\n",
    "tissues = initial_tissues\n",
    "\n",
    "dive_data = pd.DataFrame([\n",
    "],\n",
    "    columns=['t',\n",
    "             'depth',\n",
    "             'ceiling']\n",
    ")\n",
    "# initial point\n",
    "dive_data.loc[len(dive_data)] = [0, 0, pressure_to_depth(ceiling(tissues))]\n",
    "t_resolution = 1\n",
    "for i_step, ((start_time, start_depth), (end_time, end_depth)) in enumerate(zip(dive_w_stops[:-1], dive_w_stops[1:])):\n",
    "    start_tissues = tissues\n",
    "    t = start_time + t_resolution\n",
    "    while True:\n",
    "        if t > end_time:\n",
    "            t = end_time\n",
    "\n",
    "        t_end_depth = start_depth + (end_depth - start_depth) / (end_time - start_time) * (t - start_time)\n",
    "        t_tissues = get_partial_pressures(\n",
    "                start_tissues,        # vector for compartments\n",
    "                gas,\n",
    "                depth_to_pressure(start_depth),    # for example 0 feet\n",
    "                depth_to_pressure(t_end_depth),      # for example 120 feet\n",
    "                t-start_time,              # time for depth change\n",
    "        )\n",
    "        dive_data.loc[len(dive_data)] = [t, t_end_depth, pressure_to_depth(ceiling(t_tissues))]\n",
    "\n",
    "        if t == end_time:\n",
    "            # exit loop\n",
    "            tissues = t_tissues\n",
    "            break\n",
    "\n",
    "        t += t_resolution\n",
    "\n",
    "print(dive_data)\n",
    "\n",
    "%matplotlib inline\n",
    "import math\n",
    "import numpy as np\n",
    "from matplotlib import pyplot as plt\n",
    "t = np.linspace(0, 2*math.pi, 800)\n",
    "a = np.sin(t)\n",
    "plt.figure(figsize=(9, 6), dpi=75)\n",
    "plt.gca().invert_yaxis()\n",
    "plt.plot(dive_data['t'], dive_data['depth'], 'r')\n",
    "plt.plot(dive_data['t'], dive_data['ceiling'], 'b')\n",
    "plt.show()\n"
   ],
   "metadata": {
    "collapsed": false,
    "pycharm": {
     "name": "#%%\n"
    }
   }
  }
 ],
 "metadata": {
  "kernelspec": {
   "display_name": "Python 3",
   "language": "python",
   "name": "python3"
  },
  "language_info": {
   "codemirror_mode": {
    "name": "ipython",
    "version": 2
   },
   "file_extension": ".py",
   "mimetype": "text/x-python",
   "name": "python",
   "nbconvert_exporter": "python",
   "pygments_lexer": "ipython2",
   "version": "2.7.6"
  }
 },
 "nbformat": 4,
 "nbformat_minor": 0
}