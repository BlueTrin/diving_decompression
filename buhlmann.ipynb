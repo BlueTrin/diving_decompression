{
 "cells": [
  {
   "cell_type": "markdown",
   "source": [
    "# Disclaimer\n",
    "If you use any of this for any other purpose than checking for my errors, you are insane as this is not tested.\n",
    "\n",
    "# Useful references\n",
    "\n",
    "* [Dmaziuk's Github page for ZHL](https://github.com/dmaziuk/diy-zhl/blob/master/diyzhl.ipynb)\n",
    "\n",
    "* [Introductory Deco Lessons, Eric C. Baker](https://www.shearwater.com/wp-content/uploads/2012/08/Introductory-Deco-Lessons.pdf)\n",
    "\n",
    "* [Understanding M-values, Eric C. Baker](https://www.frogkick.nl/files/understanding_m-values.pdf)\n",
    "\n",
    "* [DIY deco, Stuart Morrison](http://www.lizardland.co.uk/DIYDeco.html)\n",
    "\n",
    "* [Github page for SubSurface, core/deco.c](https://github.com/subsurface/subsurface/blob/master/core/deco.c)"
   ],
   "metadata": {
    "collapsed": false,
    "pycharm": {
     "name": "#%% md\n"
    }
   }
  },
  {
   "cell_type": "markdown",
   "source": [
    "# Schreiner Equation\n",
    "## Fundamental equation of the dissolved gas\n",
    "\n",
    "$\\frac{dP}{dt} = k(P_i - P)$\n",
    "\n",
    "For ascent or descent at a constant rate, this resolves:\n",
    "\n",
    "$P = P_{i,0}+R\\left(t-\\frac{1}{k}\\right)-\\left[P_{i,0}-P_0-\\frac{R}{k}\\right]e^{-kt}$\n",
    "- $P$ Final compartment inert gas pressure\n",
    "- $P_{i,0}$ Initial ambient pressure\n",
    "- $P_0$ Initial compartment inert gas pressure\n",
    "- $R$ rate of change in inspired gas pressure with change in ambient pressure\n",
    "- $t$ time\n",
    "- $k$ $\\frac{ln(2)}{\\lambda}$\n",
    "- $\\lambda$: half time\n",
    "\n",
    "This is implemented in `buhlman.get_partial_pressures()`:"
   ],
   "metadata": {
    "collapsed": false
   }
  },
  {
   "cell_type": "code",
   "execution_count": 1,
   "outputs": [],
   "source": [
    "from buhlmann import get_partial_pressures"
   ],
   "metadata": {
    "collapsed": false,
    "pycharm": {
     "name": "#%%\n"
    }
   }
  },
  {
   "cell_type": "markdown",
   "source": [
    "We define the ZHL-16C coefficients"
   ],
   "metadata": {
    "collapsed": false
   }
  },
  {
   "cell_type": "code",
   "execution_count": 2,
   "outputs": [
    {
     "name": "stdout",
     "output_type": "stream",
     "text": [
      "+-------------+-------------+--------+--------+-------------+--------+--------+\n",
      "| compartment | n2_halflife |  n2_a  |  n2_b  | he_halflife |  he_a  |  he_b  |\n",
      "+-------------+-------------+--------+--------+-------------+--------+--------+\n",
      "|     1.0     |     5.0     | 1.1696 | 0.5578 |     1.88    | 1.6189 | 0.477  |\n",
      "|     2.0     |     8.0     |  1.0   | 0.6514 |     3.02    | 1.383  | 0.5747 |\n",
      "|     3.0     |     12.5    | 0.8618 | 0.7222 |     4.72    | 1.1919 | 0.6527 |\n",
      "|     4.0     |     18.5    | 0.7562 | 0.7825 |     6.99    | 1.0458 | 0.7223 |\n",
      "|     5.0     |     27.0    |  0.62  | 0.8126 |    10.21    | 0.922  | 0.7582 |\n",
      "|     6.0     |     38.3    | 0.5043 | 0.8434 |    14.48    | 0.8205 | 0.7957 |\n",
      "|     7.0     |     54.3    | 0.441  | 0.8693 |    20.53    | 0.7305 | 0.8279 |\n",
      "|     8.0     |     77.0    |  0.4   | 0.891  |    29.11    | 0.6502 | 0.8553 |\n",
      "|     9.0     |    109.0    | 0.375  | 0.9092 |     41.2    | 0.595  | 0.8757 |\n",
      "|     10.0    |    146.0    |  0.35  | 0.9222 |    55.19    | 0.5545 | 0.8903 |\n",
      "|     11.0    |    187.0    | 0.3295 | 0.9319 |    70.69    | 0.5333 | 0.8997 |\n",
      "|     12.0    |    239.0    | 0.3065 | 0.9403 |    90.34    | 0.5189 | 0.9073 |\n",
      "|     13.0    |    305.0    | 0.2835 | 0.9477 |    115.29   | 0.5181 | 0.9122 |\n",
      "|     14.0    |    390.0    | 0.261  | 0.9544 |    147.42   | 0.5176 | 0.9171 |\n",
      "|     15.0    |    498.0    | 0.248  | 0.9602 |    188.24   | 0.5172 | 0.9217 |\n",
      "|     16.0    |    635.0    | 0.2327 | 0.9653 |    240.03   | 0.5119 | 0.9267 |\n",
      "+-------------+-------------+--------+--------+-------------+--------+--------+\n"
     ]
    },
    {
     "data": {
      "text/plain": "<prettytable.PrettyTable at 0x271ebe05f70>"
     },
     "execution_count": 2,
     "metadata": {},
     "output_type": "execute_result"
    }
   ],
   "source": [
    "from buhlmann import ZHL_16C\n",
    "\n",
    "from prettytable import PrettyTable\n",
    "\n",
    "def generate_ascii_table(df):\n",
    "    x = PrettyTable()\n",
    "    x.field_names = df.columns.tolist()\n",
    "    for row in df.values:\n",
    "        x.add_row(row)\n",
    "    print(x)\n",
    "    return x\n",
    "\n",
    "generate_ascii_table(ZHL_16C)"
   ],
   "metadata": {
    "collapsed": false,
    "pycharm": {
     "name": "#%%\n"
    }
   }
  },
  {
   "cell_type": "markdown",
   "source": [
    "Surface pressure is assumed to be 1 bar\n",
    "Water Vapour Pressure in alveolis is expressed in bars"
   ],
   "metadata": {
    "collapsed": false
   }
  },
  {
   "cell_type": "code",
   "execution_count": 3,
   "outputs": [],
   "source": [
    "# in bar\n",
    "SURFACE_PRESSURE = 1\n",
    "WATER_VAPOR_PRESSURE_ALVEOLI = 0.0567\n",
    "\n",
    "# in fsw\n",
    "# SURFACE_PRESSURE = 33\n",
    "# WATER_VAPOR_PRESSURE_ALVEOLI = 2.042\n",
    "\n",
    "\n",
    "# 1st dive so 0.79 N2 and 0 HE\n",
    "surface_n2_pp = 0.79\n"
   ],
   "metadata": {
    "collapsed": false,
    "pycharm": {
     "name": "#%%\n"
    }
   }
  },
  {
   "cell_type": "markdown",
   "source": [
    "Define a gas for the dive"
   ],
   "metadata": {
    "collapsed": false
   }
  },
  {
   "cell_type": "code",
   "execution_count": 4,
   "outputs": [
    {
     "name": "stdout",
     "output_type": "stream",
     "text": [
      "Initial N2 partial pressure: <PandasArray>\n",
      "[0.7452070000000001, 0.7452070000000001, 0.7452070000000001,\n",
      " 0.7452070000000001, 0.7452070000000001, 0.7452070000000001,\n",
      " 0.7452070000000001, 0.7452070000000001, 0.7452070000000001,\n",
      " 0.7452070000000001, 0.7452070000000001, 0.7452070000000001,\n",
      " 0.7452070000000001, 0.7452070000000001, 0.7452070000000001,\n",
      " 0.7452070000000001]\n",
      "Length: 16, dtype: float64\n",
      "Initial He partial pressure: <IntegerArray>\n",
      "[0, 0, 0, 0, 0, 0, 0, 0, 0, 0, 0, 0, 0, 0, 0, 0]\n",
      "Length: 16, dtype: Int64\n"
     ]
    }
   ],
   "source": [
    "from buhlmann import Gas, Tissues\n",
    "# gas = Gas(n2_pc=0.4, he_pc=0.45)\n",
    "gas = Gas(n2_pc=0.79, he_pc=0.0)\n",
    "\n",
    "initial_tissues = Tissues()\n",
    "print(\"Initial N2 partial pressure: {}\".format(initial_tissues.n2_p))\n",
    "print(\"Initial He partial pressure: {}\".format(initial_tissues.he_p))"
   ],
   "metadata": {
    "collapsed": false,
    "pycharm": {
     "name": "#%%\n"
    }
   }
  },
  {
   "cell_type": "markdown",
   "source": [
    "We define the ceiling using ZHL coefficients.\n",
    "Buhlamnn used the equation of type $y= mx + b$.\n",
    "\n",
    "But he named his coefficients such as the equation is:\n",
    "$y = \\frac{1}{b}x +a$\n",
    "\n",
    "And he chose to use:\n",
    " * $P_{tissue,tol}$ on the Y-axis, tolerated inert gas in tissue\n",
    " * $P_{amb tol}$ on the X-axis, tolerated ambient pressure (absolute)\n",
    "The equation is:\n",
    "$P_{tissue,tol} = \\frac{1}{b_{tissue}}P_{amb tol} +a_{tissue}$\n",
    "\n",
    "So the ceiling implied from the amount of inert gas in tissue is:\n",
    "$ceiling_{tissue}=P_{amb tol}=\\left(P_{tissue,tol} - a_{tissue}\\right) b_{tissue}$\n",
    "\n",
    "We take the deepest ceiling of any tissue as ceiling.\n",
    "\n",
    "We defined a function to compute this `buhlmann.ceiling(tissue)`:"
   ],
   "metadata": {
    "collapsed": false
   }
  },
  {
   "cell_type": "code",
   "execution_count": 5,
   "outputs": [
    {
     "name": "stdout",
     "output_type": "stream",
     "text": [
      "ceiling in bar is 0.49472300710000006 at the start of the dive\n"
     ]
    }
   ],
   "source": [
    "from buhlmann import ceiling\n",
    "# this will return a negative number because we are a the beginning of the dive\n",
    "print(\"ceiling in bar is {} at the start of the dive\".format(ceiling(initial_tissues)))"
   ],
   "metadata": {
    "collapsed": false,
    "pycharm": {
     "name": "#%%\n"
    }
   }
  },
  {
   "cell_type": "markdown",
   "source": [
    "We have a function to convert this in depth:"
   ],
   "metadata": {
    "collapsed": false
   }
  },
  {
   "cell_type": "code",
   "execution_count": 6,
   "outputs": [
    {
     "name": "stdout",
     "output_type": "stream",
     "text": [
      "ceiling in metres is -5.052769928999999 at the start of the dive\n"
     ]
    }
   ],
   "source": [
    "from buhlmann import ceiling, pressure_to_depth, depth_to_pressure\n",
    "print(\"ceiling in metres is {} at the start of the dive\".format(\n",
    "    pressure_to_depth(ceiling(initial_tissues))))"
   ],
   "metadata": {
    "collapsed": false,
    "pycharm": {
     "name": "#%%\n"
    }
   }
  },
  {
   "cell_type": "markdown",
   "source": [
    "This is how we can update the tissues across a dive:"
   ],
   "metadata": {
    "collapsed": false
   }
  },
  {
   "cell_type": "code",
   "execution_count": 7,
   "outputs": [
    {
     "name": "stdout",
     "output_type": "stream",
     "text": [
      "Step:0, t_start=0, depth_start=0, t_end=2, depth_end=40\n",
      "ceiling: -5.019497451499991\n",
      "Step:1, t_start=2, depth_start=40, t_end=22, depth_end=40\n",
      "ceiling: 5.5835348059744145\n"
     ]
    }
   ],
   "source": [
    "import pandas as pd\n",
    "\n",
    "dive_plan = pd.DataFrame([\n",
    "    [0, 0],\n",
    "    [2, 40],\n",
    "    [22, 40]],\n",
    "    columns=['t', 'depth'])\n",
    "\n",
    "# create the segments from the plan\n",
    "dive_plan_tuples = [(t.t, t.depth) for t in dive_plan.itertuples()]\n",
    "dive_segments = zip(dive_plan_tuples[:-1], dive_plan_tuples[1:])\n",
    "\n",
    "tissues = initial_tissues\n",
    "for i_step, ((start_time, start_depth), (end_time, end_depth)) in enumerate(dive_segments):\n",
    "    print(\"Step:{}, t_start={}, depth_start={}, t_end={}, depth_end={}\".format(\n",
    "        i_step, start_time, start_depth, end_time, end_depth\n",
    "    ))\n",
    "    tissues = get_partial_pressures(\n",
    "            tissues,        # vector for compartments\n",
    "            gas,\n",
    "            depth_to_pressure(start_depth),    # for example 0 feet\n",
    "            depth_to_pressure(end_depth),      # for example 120 feet\n",
    "            end_time-start_time,              # time for depth change\n",
    "    )\n",
    "    print(\"ceiling: {}\".format(pressure_to_depth(ceiling(tissues))))\n"
   ],
   "metadata": {
    "collapsed": false,
    "pycharm": {
     "name": "#%%\n"
    }
   }
  },
  {
   "cell_type": "markdown",
   "source": [
    "For the sake of convenience, we will make a function to compute the tissues and ceilings at each step:"
   ],
   "metadata": {
    "collapsed": false
   }
  },
  {
   "cell_type": "code",
   "execution_count": 8,
   "outputs": [
    {
     "name": "stdout",
     "output_type": "stream",
     "text": [
      "    t  depth                                          tissues   ceiling\n",
      "0   0      0  <buhlmann.Tissues object at 0x00000271EBE3F5B0> -5.052770\n",
      "1   2     40  <buhlmann.Tissues object at 0x00000271EBE6B820> -5.019497\n",
      "2  22     40  <buhlmann.Tissues object at 0x00000271EBE6BB80>  5.583535\n"
     ]
    }
   ],
   "source": [
    "from buhlmann import run_dive\n",
    "updated_dive_plan = run_dive(dive_plan, initial_tissues, gas)\n",
    "print(updated_dive_plan)"
   ],
   "metadata": {
    "collapsed": false,
    "pycharm": {
     "name": "#%%\n"
    }
   }
  },
  {
   "cell_type": "markdown",
   "source": [
    "We try to find the stops for the dive"
   ],
   "metadata": {
    "collapsed": false
   }
  },
  {
   "cell_type": "code",
   "execution_count": 9,
   "outputs": [
    {
     "name": "stdout",
     "output_type": "stream",
     "text": [
      "Find stops for depth=40\n",
      "STOPS @ 40 metres\n",
      "    t  depth\n",
      "0  22     40\n",
      "1  26      6\n",
      "Find stops for depth=6\n",
      "STOPS @ 6 metres\n",
      "    t  depth\n",
      "0  26      6\n",
      "1  40      6\n",
      "2  41      0\n",
      "Final Dive Plan\n",
      "    t depth                                          tissues   ceiling\n",
      "0   0     0  <buhlmann.Tissues object at 0x00000271EBE82670> -5.052770\n",
      "1   2    40  <buhlmann.Tissues object at 0x00000271EBE828E0> -5.019497\n",
      "2  22    40  <buhlmann.Tissues object at 0x00000271EBE99520>  5.583535\n",
      "1  26     6  <buhlmann.Tissues object at 0x00000271EBE997C0>  4.270459\n",
      "1  40     6  <buhlmann.Tissues object at 0x00000271EBE6B880> -0.086336\n",
      "2  41     0  <buhlmann.Tissues object at 0x00000271EBE6BEB0> -0.263211\n"
     ]
    }
   ],
   "source": [
    "from buhlmann import find_next_stop, run_dive, Tissues, Gas\n",
    "import pandas as pd\n",
    "gas = Gas(n2_pc=0.79, he_pc=0.0)\n",
    "initial_tissues = Tissues()\n",
    "dive_plan = pd.DataFrame([\n",
    "    [0, 0],\n",
    "    [2, 40],\n",
    "    [22, 40]],\n",
    "    columns=['t', 'depth'])\n",
    "updated_dive_plan = run_dive(dive_plan, initial_tissues, gas)\n",
    "\n",
    "current_depth = updated_dive_plan.iloc[-1]['depth']\n",
    "current_time = updated_dive_plan.iloc[-1]['t']\n",
    "current_tissues = updated_dive_plan.iloc[-1]['tissues']\n",
    "allstops_schedule = pd.DataFrame(\n",
    "    columns=['t', 'depth', 'tissues', 'ceiling'])\n",
    "while current_depth != 0:\n",
    "    print(\"Find stops for depth={}\".format(current_depth))\n",
    "    stop_info = find_next_stop(current_tissues, current_depth, gas, 9)\n",
    "\n",
    "    stop_info['t'] += current_time\n",
    "    # # update the times\n",
    "    # stop_info = [(current_time, current_depth)] + \\\n",
    "    #             [ (t +current_time, d) for (t, d) in stop_info]\n",
    "\n",
    "    print(\"STOPS @ {} metres\\n{}\".format(current_depth, stop_info))\n",
    "\n",
    "    # update tissues\n",
    "    run_stop_schedule = run_dive(stop_info, current_tissues, gas)\n",
    "\n",
    "    allstops_schedule = allstops_schedule.append(run_stop_schedule[1:]) # don't repeat the first entry\n",
    "\n",
    "    # update status variables\n",
    "    current_tissues = run_stop_schedule.iloc[-1]['tissues']\n",
    "    current_depth = run_stop_schedule.iloc[-1]['depth']\n",
    "    current_time = run_stop_schedule.iloc[-1]['t']\n",
    "\n",
    "\n",
    "updated_dive_plan = updated_dive_plan.append(allstops_schedule)\n",
    "print(\"Final Dive Plan\\n{}\".format(updated_dive_plan))\n",
    "# we put this functionality in buhlmann.get_stops_to_surface()"
   ],
   "metadata": {
    "collapsed": false,
    "pycharm": {
     "name": "#%%\n"
    }
   }
  },
  {
   "cell_type": "markdown",
   "source": [
    "We provide this function to do all of this `buhlmann.get_stops_to_surface()`:"
   ],
   "metadata": {
    "collapsed": false
   }
  },
  {
   "cell_type": "code",
   "execution_count": 10,
   "outputs": [
    {
     "name": "stdout",
     "output_type": "stream",
     "text": [
      "    t  depth                                          tissues   ceiling\n",
      "0   0      0  <buhlmann.Tissues object at 0x00000271EBEBD9A0> -5.052770\n",
      "1   2     40  <buhlmann.Tissues object at 0x00000271EBE99310> -5.019497\n",
      "2  22     40  <buhlmann.Tissues object at 0x00000271EBEBDF40>  5.583535\n",
      "0  22     40  <buhlmann.Tissues object at 0x00000271EBEBDF40>  5.583535\n",
      "1  26      6  <buhlmann.Tissues object at 0x00000271EBE6BE20>  4.270459\n",
      "1  40      6  <buhlmann.Tissues object at 0x00000271EBE6B5B0> -0.086336\n",
      "2  41      0  <buhlmann.Tissues object at 0x00000271EBE6B910> -0.263211\n"
     ]
    }
   ],
   "source": [
    "from buhlmann import get_stops_to_surface\n",
    "from buhlmann import find_next_stop, run_dive, Tissues, Gas\n",
    "import pandas as pd\n",
    "gas = Gas(n2_pc=0.79, he_pc=0.0)\n",
    "initial_tissues = Tissues()\n",
    "dive_plan = pd.DataFrame([\n",
    "    [0, 0],\n",
    "    [2, 40],\n",
    "    [22, 40]],\n",
    "    columns=['t', 'depth'])\n",
    "run_dive_plan = run_dive(dive_plan, initial_tissues, gas)\n",
    "current_tissues = run_dive_plan.iloc[-1]['tissues']\n",
    "current_depth = run_dive_plan.iloc[-1]['depth']\n",
    "max_ascent_rate = 9 # metres/sec\n",
    "run_stops = get_stops_to_surface(current_tissues, current_depth, gas, max_ascent_rate)\n",
    "run_stops['t'] += run_dive_plan.iloc[-1]['t']\n",
    "run_dive_plan = run_dive_plan.append(run_stops)\n",
    "print(run_dive_plan)"
   ],
   "metadata": {
    "collapsed": false,
    "pycharm": {
     "name": "#%%\n"
    }
   }
  },
  {
   "cell_type": "markdown",
   "source": [
    "But to display a graph we will use the resolution parameter to run the dive"
   ],
   "metadata": {
    "collapsed": false,
    "pycharm": {
     "name": "#%% md\n"
    }
   }
  },
  {
   "cell_type": "code",
   "execution_count": 11,
   "outputs": [
    {
     "data": {
      "text/plain": "<Figure size 900x750 with 0 Axes>"
     },
     "metadata": {},
     "output_type": "display_data"
    },
    {
     "data": {
      "text/plain": "<Figure size 864x720 with 1 Axes>",
      "image/png": "[encoded data removed]"
     },
     "metadata": {
      "needs_background": "light"
     },
     "output_type": "display_data"
    }
   ],
   "source": [
    "from buhlmann import Gas, Tissues, run_dive, get_stops_to_surface\n",
    "gas = Gas(n2_pc=0.79, he_pc=0.0)\n",
    "initial_tissues = Tissues()\n",
    "dive_plan = pd.DataFrame([\n",
    "    [0, 0],\n",
    "    [2, 40],\n",
    "    [22, 40]],\n",
    "    columns=['t', 'depth'])\n",
    "run_dive_plan = run_dive(dive_plan, initial_tissues, gas)\n",
    "current_tissues = run_dive_plan.iloc[-1]['tissues']\n",
    "current_depth = run_dive_plan.iloc[-1]['depth']\n",
    "max_ascent_rate = 9  # metres/sec\n",
    "run_stops = get_stops_to_surface(current_tissues, current_depth, gas, max_ascent_rate)\n",
    "run_stops['t'] += run_dive_plan.iloc[-1]['t']\n",
    "run_dive_plan = run_dive_plan.append(run_stops)\n",
    "\n",
    "# print(run_dive_plan)\n",
    "dive_data = run_dive(run_dive_plan, initial_tissues, gas, resolution=1)\n",
    "# print(dive_data)\n",
    "\n",
    "from matplotlib.patches import Polygon\n",
    "import matplotlib.colors as mcolors\n",
    "\n",
    "def gradient_fill(x, y, fill_color=None, ax=None, **kwargs):\n",
    "    \"\"\"\n",
    "    Plot a line with a linear alpha gradient filled beneath it.\n",
    "\n",
    "    Parameters\n",
    "    ----------\n",
    "    x, y : array-like\n",
    "        The data values of the line.\n",
    "    fill_color : a matplotlib color specifier (string, tuple) or None\n",
    "        The color for the fill. If None, the color of the line will be used.\n",
    "    ax : a matplotlib Axes instance\n",
    "        The axes to plot on. If None, the current pyplot axes will be used.\n",
    "    Additional arguments are passed on to matplotlib's ``plot`` function.\n",
    "\n",
    "    Returns\n",
    "    -------\n",
    "    line : a Line2D instance\n",
    "        The line plotted.\n",
    "    im : an AxesImage instance\n",
    "        The transparent gradient clipped to just the area beneath the curve.\n",
    "    \"\"\"\n",
    "    if ax is None:\n",
    "        ax = plt.gca()\n",
    "\n",
    "    line, = ax.plot(x, y, **kwargs)\n",
    "    if fill_color is None:\n",
    "        fill_color = line.get_color()\n",
    "\n",
    "    zorder = line.get_zorder()\n",
    "    alpha = line.get_alpha()\n",
    "    alpha = 1.0 if alpha is None else alpha\n",
    "\n",
    "    z = np.empty((100, 1, 4), dtype=float)\n",
    "    rgb = mcolors.colorConverter.to_rgb(fill_color)\n",
    "    z[:,:,:3] = rgb\n",
    "    z[:,:,-1] = np.linspace(0, alpha, 100)[:,None]\n",
    "\n",
    "    # xmin, xmax, ymin, ymax = x.min(), x.max(), y.min(), y.max()\n",
    "    xmin, xmax, ymin, ymax = x.min(), x.max(), 0, y.max()\n",
    "    im = ax.imshow(z, aspect='auto', extent=[xmin, xmax, ymin, ymax],\n",
    "                   origin='lower', zorder=zorder)\n",
    "\n",
    "    xy = np.column_stack([x, y])\n",
    "    xy = np.vstack([[xmin, ymin], xy, [xmax, ymin], [xmin, ymin]])\n",
    "    clip_path = Polygon(xy, facecolor='none', edgecolor='none', closed=True)\n",
    "    ax.add_patch(clip_path)\n",
    "    im.set_clip_path(clip_path)\n",
    "\n",
    "    ax.autoscale(True)\n",
    "    return line, im\n",
    "\n",
    "%matplotlib inline\n",
    "import math\n",
    "import numpy as np\n",
    "from matplotlib import pyplot as plt\n",
    "t = np.linspace(0, 2*math.pi, 800)\n",
    "a = np.sin(t)\n",
    "plt.figure(figsize=(12, 10), dpi=75)\n",
    "# plt.plot(dive_data['t'], dive_data['depth'], 'r')\n",
    "# plt.plot(dive_data['t'], dive_data['ceiling'], 'b')\n",
    "fig, ax = plt.subplots(figsize=(12,10))\n",
    "gradient_fill(dive_data['t'], dive_data['depth'], ax=ax)\n",
    "gradient_fill(dive_data['t'], dive_data['ceiling'], ax=ax)\n",
    "plt.gca().invert_yaxis()\n",
    "# ax.set_aspect('equal')\n",
    "ax.grid(True, which='both')\n",
    "\n",
    "ax.axhline(y=0, color='k')\n",
    "ax.axvline(x=0, color='k')\n",
    "plt.show()\n"
   ],
   "metadata": {
    "collapsed": false,
    "pycharm": {
     "name": "#%%\n"
    }
   }
  }
 ],
 "metadata": {
  "kernelspec": {
   "display_name": "Python 3",
   "language": "python",
   "name": "python3"
  },
  "language_info": {
   "codemirror_mode": {
    "name": "ipython",
    "version": 2
   },
   "file_extension": ".py",
   "mimetype": "text/x-python",
   "name": "python",
   "nbconvert_exporter": "python",
   "pygments_lexer": "ipython2",
   "version": "2.7.6"
  }
 },
 "nbformat": 4,
 "nbformat_minor": 0
}